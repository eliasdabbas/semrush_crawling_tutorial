{
 "cells": [
  {
   "cell_type": "markdown",
   "metadata": {},
   "source": [
    "# Crawling and Scraping for Creating an Influencer Database\n",
    "\n",
    "You just landed a new big, long term account. You need to develop a proper understanding of the industry, how it is structured, and who the leaders are so you can help your client develop strong relationships as well as establish strong thought leadership in the industry.\n",
    "\n",
    "One way to find those people is through industry publications that feature leaders who contribute content on strategies and industry best practices. \n",
    "\n",
    "In this tutorial we will use crawling and scraping to create the nucleus of such a database. \n",
    "\n",
    "To be familiar, the industry is the online marketing and and advertising industry, the publication is the SEMrush blog, and the crawler is the open-source [advertools](https://github.com/eliasdabbas/advertools) crawler. \n",
    "\n",
    "At the time of this writing, this blog has 393 authors, each with a profile page. You can manually copy and paste all their profiles and links, but your time is much more valuable than that. \n",
    "\n",
    "# Preparation (pages and data elements to extract)\n",
    "\n",
    "The full list of bloggers with a link to each blogger's profile page can be found on a few pages with this template: \n",
    "\n",
    "`https://www.semrush.com/blog/authors/all/?page={n}`\n",
    "Where `n` is a number ranging from one to fourteen.\n",
    "\n",
    "We first start by generating a list of those pages. The crawler will be instructed to start here."
   ]
  },
  {
   "cell_type": "code",
   "execution_count": 80,
   "metadata": {},
   "outputs": [
    {
     "data": {
      "text/plain": [
       "['https://www.semrush.com/blog/authors/all/?page=1',\n",
       " 'https://www.semrush.com/blog/authors/all/?page=2',\n",
       " 'https://www.semrush.com/blog/authors/all/?page=3',\n",
       " 'https://www.semrush.com/blog/authors/all/?page=4',\n",
       " 'https://www.semrush.com/blog/authors/all/?page=5',\n",
       " 'https://www.semrush.com/blog/authors/all/?page=6',\n",
       " 'https://www.semrush.com/blog/authors/all/?page=7',\n",
       " 'https://www.semrush.com/blog/authors/all/?page=8',\n",
       " 'https://www.semrush.com/blog/authors/all/?page=9',\n",
       " 'https://www.semrush.com/blog/authors/all/?page=10',\n",
       " 'https://www.semrush.com/blog/authors/all/?page=11',\n",
       " 'https://www.semrush.com/blog/authors/all/?page=12',\n",
       " 'https://www.semrush.com/blog/authors/all/?page=13',\n",
       " 'https://www.semrush.com/blog/authors/all/?page=14']"
      ]
     },
     "execution_count": 80,
     "metadata": {},
     "output_type": "execute_result"
    }
   ],
   "source": [
    "author_pages = [f'https://www.semrush.com/blog/authors/all/?page={n}' for n in range(1, 15)]\n",
    "author_pages"
   ]
  },
  {
   "cell_type": "markdown",
   "metadata": {},
   "source": [
    "From these pages, the crawler should follow the links and from each profile page extract certain elements that we are interested in, using CSS selectors. If you are not familiar with CSS (or XPath) selectors, they are basically a way for you to specify parts of the page in a language that is more explicit and specific than \"list items\" for example, but also in a way that corresponds to how we think and view pages. \n",
    "\n",
    "You most likely don't want all the links from a page. You typically want something like \"all the links in the top part of the page that have social media icons\".\n",
    "\n",
    "I use a nice browser tool called [SelectorGadget](https://selectorgadget.com/) to help me find the names of the selectors. Once you activate it, any click you make on a part of the page gets highlighted in green, together with all similar elements. If you want to be more specific, you can click on other elements to deselect them. \n",
    "\n",
    "In the example below, I first clicked on the LinkedIn icon, which also selected several other links on the page. Then once I clicked on the Home icon, it deselected all other elements (that's why it is now in red), and I'm given the selector that corresponds to this specific element. \n",
    "In the bottom of the page you can see `.b-social-links__item_ico_linkedin`. You can also click on the XPath button to get the equivalent pattern if you want. So this is how we specify to the crawler which elements we want.  \n",
    "Meet A.J., our all-time #1 champion!"
   ]
  },
  {
   "cell_type": "markdown",
   "metadata": {},
   "source": [
    "![](css_selector_screenshot.png)"
   ]
  },
  {
   "cell_type": "markdown",
   "metadata": {},
   "source": [
    "I did the same for other elements, and they are named below in this {key: value} mapping (Python dictionary). The keys can be named whatever you want, and they will become the column names in the crawl output file. The values are what the crawler will extract. \n",
    "Note that the selectors end with `::text` or `::attr(href)`.   \n",
    "If you don't specify that, you will still get the links extracted correctly, but you will get the whole link object `<a href=\"https://example.com>Link Text</a>`.  In this case we specified whether we want the href or the text attribute."
   ]
  },
  {
   "cell_type": "code",
   "execution_count": 3,
   "metadata": {},
   "outputs": [],
   "source": [
    "selectors = {\n",
    "    'twitter':   '.b-social-links__item_ico_tw::attr(href)',\n",
    "    'linkedin':  '.b-social-links__item_ico_linkedin::attr(href)',\n",
    "    'facebook':  '.b-social-links__item_ico_fb::attr(href)',\n",
    "    'instagram': '.b-social-links__item_ico_instagram::attr(href)',\n",
    "    'website':   '.b-social-links__item_ico_web-site::attr(href)',\n",
    "    'job_title': '.b-profile-top__info-occupation::text',\n",
    "    'summary': '.b-profile-top__description::text , .b-profile-top__description a::text',\n",
    "    'alltime_rank': 'a[class=\"js-profile-ga-event\"]::text',\n",
    "    'rank_name': '.b-profile-top__status::text'\n",
    "}"
   ]
  },
  {
   "cell_type": "markdown",
   "metadata": {},
   "source": [
    "So now we have the start pages ready, and we have the elements that we want to extract.   \n",
    "To crawl, we use the command below:"
   ]
  },
  {
   "cell_type": "code",
   "execution_count": 4,
   "metadata": {},
   "outputs": [],
   "source": [
    "import advertools as adv\n",
    "    \n",
    "adv.crawl(url_list=author_pages,\n",
    "          output_file='semrush_crawl_2020-06-17.jl',\n",
    "          follow_links=True, \n",
    "          custom_settings={'DEPTH_LIMIT': 1},\n",
    "          css_selectors=selectors) "
   ]
  },
  {
   "cell_type": "markdown",
   "metadata": {},
   "source": [
    "Let me explain: \n",
    "* `import advertools as adv`: activate the advertools package and use the alias `adv` to refer to it as a shorthand. \n",
    "* `url_list=author_pages`: This is where the crawler will start crawling. `author_pages` is the name we gave to the list of fourteen URLs that contain links to the bloggers' profiles. \n",
    "* `output_file`: This is where we want the crawl data to be saved. It is always good to provide a descriptive name, together with the date. \".jl\" is for \"jsonlines\", which is a flexible way of storing the data, where each URL's data will be saved in an independent line in the file. We will import it as a DataFrame, which can then be saved to CSV format for easier sharing.\n",
    "*`follow_links=True`: If set to False, then the crawler would only crawl the specified pages, which is also known as \"list mode\". In this case we want the crawler to follow links. What this means is that for every page crawled, all links will be followed. Now we don't want to crawl the whole website, so we use the next setting to limit our crawl. \n",
    "* `'DEPTH_LIMIT': 1`: Yes, do follow links you find on the initial pages, and crawl the pages you find, but only one level after the initial fourteen.\n",
    "* `selectors`: Refers to the dictionary we created to specify the data we want extracted.\n",
    "\n",
    "There are many different options for crawling, and you can [check the documentation](https://advertools.readthedocs.io/en/master/advertools.spider.html) if you are interested in more details.  \n",
    "This takes a few minutes, and now we can open the file using the pandas function `read_json`, and by specifying `lines=True` (because it's jsonlines)."
   ]
  },
  {
   "cell_type": "code",
   "execution_count": 5,
   "metadata": {},
   "outputs": [],
   "source": [
    "import pandas as pd\n",
    "\n",
    "semrush = pd.read_json('semrush_crawl_2020-06-17.jl',\n",
    "                       lines=True)"
   ]
  },
  {
   "cell_type": "markdown",
   "metadata": {},
   "source": [
    "Now we have defined the variable `semrush` to refer to the crawl DataFrame. Let's first take a look at the columns it contains.  \n",
    "As you can see below, there are eighty three columns. The majority are fixed (like \"title\", \"h1\", \"meta_desc\", etc.), and some are dynamic. For example OpenGraph data might exist on a page and might not, so some columns only appear if they are in the page.  \n",
    "The columns that have social network names and the names we specified above would only appear if we explicitly specify them as we did in this example."
   ]
  },
  {
   "cell_type": "code",
   "execution_count": 6,
   "metadata": {},
   "outputs": [
    {
     "name": "stdout",
     "output_type": "stream",
     "text": [
      "1 : url                            29: links_fragment                           57: request_headers_user-agent\n",
      "2 : url_redirected_to              30: links_nofollow                           58: request_headers_accept-encoding\n",
      "3 : title                          31: img_src                                  59: request_headers_cookie\n",
      "4 : meta_desc                      32: img_alt                                  60: alt_hreflang\n",
      "5 : canonical                      33: ip_address                               61: og:title\n",
      "6 : alt_href                       34: crawl_time                               62: og:type\n",
      "7 : og:image                       35: resp_headers_date                        63: og:description\n",
      "8 : h1                             36: resp_headers_content-type                64: og:site_name\n",
      "9 : h2                             37: resp_headers_cf-ray                      65: og:url\n",
      "10: h3                             38: resp_headers_cache-control               66: request_headers_referer\n",
      "11: body_text                      39: resp_headers_expires                     67: resp_meta_redirect_times\n",
      "12: size                           40: resp_headers_set-cookie                  68: resp_meta_redirect_ttl\n",
      "13: twitter                        41: resp_headers_strict-transport-security   69: resp_meta_redirect_urls\n",
      "14: linkedin                       42: resp_headers_via                         70: resp_meta_redirect_reasons\n",
      "15: facebook                       43: resp_headers_cf-cache-status             71: twitter:description\n",
      "16: instagram                      44: resp_headers_cf-request-id               72: twitter:title\n",
      "17: website                        45: resp_headers_expect-ct                   73: twitter:site\n",
      "18: job_title                      46: resp_headers_p3p                         74: twitter:creator\n",
      "19: summary                        47: resp_headers_pragma                      75: twitter:card\n",
      "20: alltime_rank                   48: resp_headers_sm-log-id                   76: resp_headers_content-language\n",
      "21: rank_name                      49: resp_headers_x-content-type-options      77: resp_headers_x-service\n",
      "22: resp_meta_download_timeout     50: resp_headers_x-frame-options             78: resp_headers_x-service-response-time\n",
      "23: resp_meta_download_slot        51: resp_headers_x-split-header              79: twitter:image\n",
      "24: resp_meta_download_latency     52: resp_headers_x-xss-protection            80: resp_headers_x-dns-prefetch-control\n",
      "25: resp_meta_depth                53: resp_headers_vary                        81: resp_headers_x-download-options\n",
      "26: status                         54: resp_headers_server                      82: og:locale\n",
      "27: links_url                      55: request_headers_accept                   83: twitter:url\n",
      "28: links_text                     56: request_headers_accept-language          84: \n"
     ]
    }
   ],
   "source": [
    "n = 1\n",
    "for col1, col2, col3 in zip(semrush.columns[:28],\n",
    "                            semrush.columns[28:56],\n",
    "                            semrush.columns[56:].tolist() + ['', '']):\n",
    "    print(f'{n:<2}: {col1:<30}', f'{n+28}: {col2:<40}', f'{n+28+28}: {col3}')\n",
    "    n += 1"
   ]
  },
  {
   "cell_type": "markdown",
   "metadata": {},
   "source": [
    "Since this is not an SEO audit, we are only interested in the extracted data related to the authors, we will now create a subset of the data, with the following code.  \n",
    "It basically says that we want the subset of `semrush` where the cells of the column `attime_rank` are not empty, and where the columns are `h1`, `url`, or any of the keys that we specified for extraction."
   ]
  },
  {
   "cell_type": "code",
   "execution_count": 95,
   "metadata": {},
   "outputs": [
    {
     "data": {
      "text/html": [
       "<style  type=\"text/css\" >\n",
       "</style><table id=\"T_4b0270aa_b0f0_11ea_b8fe_6c4008994c4e\" ><thead>    <tr>        <th class=\"col_heading level0 col0\" >h1</th>        <th class=\"col_heading level0 col1\" >url</th>        <th class=\"col_heading level0 col2\" >twitter</th>        <th class=\"col_heading level0 col3\" >linkedin</th>        <th class=\"col_heading level0 col4\" >facebook</th>        <th class=\"col_heading level0 col5\" >instagram</th>        <th class=\"col_heading level0 col6\" >website</th>        <th class=\"col_heading level0 col7\" >job_title</th>        <th class=\"col_heading level0 col8\" >summary</th>        <th class=\"col_heading level0 col9\" >alltime_rank</th>        <th class=\"col_heading level0 col10\" >rank_name</th>    </tr></thead><tbody>\n",
       "                <tr>\n",
       "                                <td id=\"T_4b0270aa_b0f0_11ea_b8fe_6c4008994c4erow0_col0\" class=\"data row0 col0\" >Evan Facinger</td>\n",
       "                        <td id=\"T_4b0270aa_b0f0_11ea_b8fe_6c4008994c4erow0_col1\" class=\"data row0 col1\" >https://www.semrush.</td>\n",
       "                        <td id=\"T_4b0270aa_b0f0_11ea_b8fe_6c4008994c4erow0_col2\" class=\"data row0 col2\" >https://twitter.com/</td>\n",
       "                        <td id=\"T_4b0270aa_b0f0_11ea_b8fe_6c4008994c4erow0_col3\" class=\"data row0 col3\" >https://www.linkedin</td>\n",
       "                        <td id=\"T_4b0270aa_b0f0_11ea_b8fe_6c4008994c4erow0_col4\" class=\"data row0 col4\" ></td>\n",
       "                        <td id=\"T_4b0270aa_b0f0_11ea_b8fe_6c4008994c4erow0_col5\" class=\"data row0 col5\" >https://www.instagra</td>\n",
       "                        <td id=\"T_4b0270aa_b0f0_11ea_b8fe_6c4008994c4erow0_col6\" class=\"data row0 col6\" >https://foremostmedi</td>\n",
       "                        <td id=\"T_4b0270aa_b0f0_11ea_b8fe_6c4008994c4erow0_col7\" class=\"data row0 col7\" >\n",
       "Director Sales and </td>\n",
       "                        <td id=\"T_4b0270aa_b0f0_11ea_b8fe_6c4008994c4erow0_col8\" class=\"data row0 col8\" >Evan is a digital ma</td>\n",
       "                        <td id=\"T_4b0270aa_b0f0_11ea_b8fe_6c4008994c4erow0_col9\" class=\"data row0 col9\" >\n",
       "#139 @@\n",
       "#154 </td>\n",
       "                        <td id=\"T_4b0270aa_b0f0_11ea_b8fe_6c4008994c4erow0_col10\" class=\"data row0 col10\" >Pro\n",
       "</td>\n",
       "            </tr>\n",
       "            <tr>\n",
       "                                <td id=\"T_4b0270aa_b0f0_11ea_b8fe_6c4008994c4erow1_col0\" class=\"data row1 col0\" >Moss Clement</td>\n",
       "                        <td id=\"T_4b0270aa_b0f0_11ea_b8fe_6c4008994c4erow1_col1\" class=\"data row1 col1\" >https://www.semrush.</td>\n",
       "                        <td id=\"T_4b0270aa_b0f0_11ea_b8fe_6c4008994c4erow1_col2\" class=\"data row1 col2\" >https://twitter.com/</td>\n",
       "                        <td id=\"T_4b0270aa_b0f0_11ea_b8fe_6c4008994c4erow1_col3\" class=\"data row1 col3\" >https://www.linkedin</td>\n",
       "                        <td id=\"T_4b0270aa_b0f0_11ea_b8fe_6c4008994c4erow1_col4\" class=\"data row1 col4\" >https://www.facebook</td>\n",
       "                        <td id=\"T_4b0270aa_b0f0_11ea_b8fe_6c4008994c4erow1_col5\" class=\"data row1 col5\" >https://www.instagra</td>\n",
       "                        <td id=\"T_4b0270aa_b0f0_11ea_b8fe_6c4008994c4erow1_col6\" class=\"data row1 col6\" >https://writersperho</td>\n",
       "                        <td id=\"T_4b0270aa_b0f0_11ea_b8fe_6c4008994c4erow1_col7\" class=\"data row1 col7\" >\n",
       "Content Manager at </td>\n",
       "                        <td id=\"T_4b0270aa_b0f0_11ea_b8fe_6c4008994c4erow1_col8\" class=\"data row1 col8\" >Moss Clement is a fr</td>\n",
       "                        <td id=\"T_4b0270aa_b0f0_11ea_b8fe_6c4008994c4erow1_col9\" class=\"data row1 col9\" >\n",
       "#201 @@\n",
       "#17 </td>\n",
       "                        <td id=\"T_4b0270aa_b0f0_11ea_b8fe_6c4008994c4erow1_col10\" class=\"data row1 col10\" >Pro\n",
       "</td>\n",
       "            </tr>\n",
       "            <tr>\n",
       "                                <td id=\"T_4b0270aa_b0f0_11ea_b8fe_6c4008994c4erow2_col0\" class=\"data row2 col0\" >Dave Rohrer</td>\n",
       "                        <td id=\"T_4b0270aa_b0f0_11ea_b8fe_6c4008994c4erow2_col1\" class=\"data row2 col1\" >https://www.semrush.</td>\n",
       "                        <td id=\"T_4b0270aa_b0f0_11ea_b8fe_6c4008994c4erow2_col2\" class=\"data row2 col2\" >https://twitter.com/</td>\n",
       "                        <td id=\"T_4b0270aa_b0f0_11ea_b8fe_6c4008994c4erow2_col3\" class=\"data row2 col3\" ></td>\n",
       "                        <td id=\"T_4b0270aa_b0f0_11ea_b8fe_6c4008994c4erow2_col4\" class=\"data row2 col4\" ></td>\n",
       "                        <td id=\"T_4b0270aa_b0f0_11ea_b8fe_6c4008994c4erow2_col5\" class=\"data row2 col5\" >https://www.instagra</td>\n",
       "                        <td id=\"T_4b0270aa_b0f0_11ea_b8fe_6c4008994c4erow2_col6\" class=\"data row2 col6\" >https://www.northsid</td>\n",
       "                        <td id=\"T_4b0270aa_b0f0_11ea_b8fe_6c4008994c4erow2_col7\" class=\"data row2 col7\" >\n",
       "Founder at NorthSid</td>\n",
       "                        <td id=\"T_4b0270aa_b0f0_11ea_b8fe_6c4008994c4erow2_col8\" class=\"data row2 col8\" >As an in-house and a</td>\n",
       "                        <td id=\"T_4b0270aa_b0f0_11ea_b8fe_6c4008994c4erow2_col9\" class=\"data row2 col9\" >\n",
       "#322 @@\n",
       "#244 </td>\n",
       "                        <td id=\"T_4b0270aa_b0f0_11ea_b8fe_6c4008994c4erow2_col10\" class=\"data row2 col10\" >Expert\n",
       "</td>\n",
       "            </tr>\n",
       "            <tr>\n",
       "                                <td id=\"T_4b0270aa_b0f0_11ea_b8fe_6c4008994c4erow3_col0\" class=\"data row3 col0\" >Oleg Yemchuk</td>\n",
       "                        <td id=\"T_4b0270aa_b0f0_11ea_b8fe_6c4008994c4erow3_col1\" class=\"data row3 col1\" >https://www.semrush.</td>\n",
       "                        <td id=\"T_4b0270aa_b0f0_11ea_b8fe_6c4008994c4erow3_col2\" class=\"data row3 col2\" ></td>\n",
       "                        <td id=\"T_4b0270aa_b0f0_11ea_b8fe_6c4008994c4erow3_col3\" class=\"data row3 col3\" >https://www.linkedin</td>\n",
       "                        <td id=\"T_4b0270aa_b0f0_11ea_b8fe_6c4008994c4erow3_col4\" class=\"data row3 col4\" ></td>\n",
       "                        <td id=\"T_4b0270aa_b0f0_11ea_b8fe_6c4008994c4erow3_col5\" class=\"data row3 col5\" ></td>\n",
       "                        <td id=\"T_4b0270aa_b0f0_11ea_b8fe_6c4008994c4erow3_col6\" class=\"data row3 col6\" ></td>\n",
       "                        <td id=\"T_4b0270aa_b0f0_11ea_b8fe_6c4008994c4erow3_col7\" class=\"data row3 col7\" >\n",
       "Marketing Manager a</td>\n",
       "                        <td id=\"T_4b0270aa_b0f0_11ea_b8fe_6c4008994c4erow3_col8\" class=\"data row3 col8\" >Oleg Yemchuk is the </td>\n",
       "                        <td id=\"T_4b0270aa_b0f0_11ea_b8fe_6c4008994c4erow3_col9\" class=\"data row3 col9\" >\n",
       "#220 @@\n",
       "#265 </td>\n",
       "                        <td id=\"T_4b0270aa_b0f0_11ea_b8fe_6c4008994c4erow3_col10\" class=\"data row3 col10\" >Expert\n",
       "</td>\n",
       "            </tr>\n",
       "            <tr>\n",
       "                                <td id=\"T_4b0270aa_b0f0_11ea_b8fe_6c4008994c4erow4_col0\" class=\"data row4 col0\" >Brandon Weaver</td>\n",
       "                        <td id=\"T_4b0270aa_b0f0_11ea_b8fe_6c4008994c4erow4_col1\" class=\"data row4 col1\" >https://www.semrush.</td>\n",
       "                        <td id=\"T_4b0270aa_b0f0_11ea_b8fe_6c4008994c4erow4_col2\" class=\"data row4 col2\" ></td>\n",
       "                        <td id=\"T_4b0270aa_b0f0_11ea_b8fe_6c4008994c4erow4_col3\" class=\"data row4 col3\" ></td>\n",
       "                        <td id=\"T_4b0270aa_b0f0_11ea_b8fe_6c4008994c4erow4_col4\" class=\"data row4 col4\" ></td>\n",
       "                        <td id=\"T_4b0270aa_b0f0_11ea_b8fe_6c4008994c4erow4_col5\" class=\"data row4 col5\" ></td>\n",
       "                        <td id=\"T_4b0270aa_b0f0_11ea_b8fe_6c4008994c4erow4_col6\" class=\"data row4 col6\" ></td>\n",
       "                        <td id=\"T_4b0270aa_b0f0_11ea_b8fe_6c4008994c4erow4_col7\" class=\"data row4 col7\" >\n",
       "Content Marketing M</td>\n",
       "                        <td id=\"T_4b0270aa_b0f0_11ea_b8fe_6c4008994c4erow4_col8\" class=\"data row4 col8\" >Born in Idaho, grew </td>\n",
       "                        <td id=\"T_4b0270aa_b0f0_11ea_b8fe_6c4008994c4erow4_col9\" class=\"data row4 col9\" >\n",
       "#271 @@\n",
       "#2515 </td>\n",
       "                        <td id=\"T_4b0270aa_b0f0_11ea_b8fe_6c4008994c4erow4_col10\" class=\"data row4 col10\" >Helper\n",
       "</td>\n",
       "            </tr>\n",
       "            <tr>\n",
       "                                <td id=\"T_4b0270aa_b0f0_11ea_b8fe_6c4008994c4erow5_col0\" class=\"data row5 col0\" >Cooper Hollmaier</td>\n",
       "                        <td id=\"T_4b0270aa_b0f0_11ea_b8fe_6c4008994c4erow5_col1\" class=\"data row5 col1\" >https://www.semrush.</td>\n",
       "                        <td id=\"T_4b0270aa_b0f0_11ea_b8fe_6c4008994c4erow5_col2\" class=\"data row5 col2\" >https://twitter.com/</td>\n",
       "                        <td id=\"T_4b0270aa_b0f0_11ea_b8fe_6c4008994c4erow5_col3\" class=\"data row5 col3\" >https://www.linkedin</td>\n",
       "                        <td id=\"T_4b0270aa_b0f0_11ea_b8fe_6c4008994c4erow5_col4\" class=\"data row5 col4\" ></td>\n",
       "                        <td id=\"T_4b0270aa_b0f0_11ea_b8fe_6c4008994c4erow5_col5\" class=\"data row5 col5\" ></td>\n",
       "                        <td id=\"T_4b0270aa_b0f0_11ea_b8fe_6c4008994c4erow5_col6\" class=\"data row5 col6\" >https://www.visiture</td>\n",
       "                        <td id=\"T_4b0270aa_b0f0_11ea_b8fe_6c4008994c4erow5_col7\" class=\"data row5 col7\" >\n",
       "Technical SEO Manag</td>\n",
       "                        <td id=\"T_4b0270aa_b0f0_11ea_b8fe_6c4008994c4erow5_col8\" class=\"data row5 col8\" >Cooper Hollmaier is </td>\n",
       "                        <td id=\"T_4b0270aa_b0f0_11ea_b8fe_6c4008994c4erow5_col9\" class=\"data row5 col9\" >\n",
       "#216 @@\n",
       "#86 </td>\n",
       "                        <td id=\"T_4b0270aa_b0f0_11ea_b8fe_6c4008994c4erow5_col10\" class=\"data row5 col10\" >Pro\n",
       "</td>\n",
       "            </tr>\n",
       "            <tr>\n",
       "                                <td id=\"T_4b0270aa_b0f0_11ea_b8fe_6c4008994c4erow6_col0\" class=\"data row6 col0\" >Vahe Arabian</td>\n",
       "                        <td id=\"T_4b0270aa_b0f0_11ea_b8fe_6c4008994c4erow6_col1\" class=\"data row6 col1\" >https://www.semrush.</td>\n",
       "                        <td id=\"T_4b0270aa_b0f0_11ea_b8fe_6c4008994c4erow6_col2\" class=\"data row6 col2\" >https://twitter.com/</td>\n",
       "                        <td id=\"T_4b0270aa_b0f0_11ea_b8fe_6c4008994c4erow6_col3\" class=\"data row6 col3\" >https://www.linkedin</td>\n",
       "                        <td id=\"T_4b0270aa_b0f0_11ea_b8fe_6c4008994c4erow6_col4\" class=\"data row6 col4\" ></td>\n",
       "                        <td id=\"T_4b0270aa_b0f0_11ea_b8fe_6c4008994c4erow6_col5\" class=\"data row6 col5\" ></td>\n",
       "                        <td id=\"T_4b0270aa_b0f0_11ea_b8fe_6c4008994c4erow6_col6\" class=\"data row6 col6\" >http://www.stateofdi</td>\n",
       "                        <td id=\"T_4b0270aa_b0f0_11ea_b8fe_6c4008994c4erow6_col7\" class=\"data row6 col7\" >\n",
       "Founder & Editor in</td>\n",
       "                        <td id=\"T_4b0270aa_b0f0_11ea_b8fe_6c4008994c4erow6_col8\" class=\"data row6 col8\" >Vahe Arabian is the </td>\n",
       "                        <td id=\"T_4b0270aa_b0f0_11ea_b8fe_6c4008994c4erow6_col9\" class=\"data row6 col9\" >\n",
       "#84 @@\n",
       "#898 </td>\n",
       "                        <td id=\"T_4b0270aa_b0f0_11ea_b8fe_6c4008994c4erow6_col10\" class=\"data row6 col10\" >Pro\n",
       "</td>\n",
       "            </tr>\n",
       "            <tr>\n",
       "                                <td id=\"T_4b0270aa_b0f0_11ea_b8fe_6c4008994c4erow7_col0\" class=\"data row7 col0\" >Alexandra Tachalova</td>\n",
       "                        <td id=\"T_4b0270aa_b0f0_11ea_b8fe_6c4008994c4erow7_col1\" class=\"data row7 col1\" >https://www.semrush.</td>\n",
       "                        <td id=\"T_4b0270aa_b0f0_11ea_b8fe_6c4008994c4erow7_col2\" class=\"data row7 col2\" >https://twitter.com/</td>\n",
       "                        <td id=\"T_4b0270aa_b0f0_11ea_b8fe_6c4008994c4erow7_col3\" class=\"data row7 col3\" >https://www.linkedin</td>\n",
       "                        <td id=\"T_4b0270aa_b0f0_11ea_b8fe_6c4008994c4erow7_col4\" class=\"data row7 col4\" ></td>\n",
       "                        <td id=\"T_4b0270aa_b0f0_11ea_b8fe_6c4008994c4erow7_col5\" class=\"data row7 col5\" ></td>\n",
       "                        <td id=\"T_4b0270aa_b0f0_11ea_b8fe_6c4008994c4erow7_col6\" class=\"data row7 col6\" >http://alextachalova</td>\n",
       "                        <td id=\"T_4b0270aa_b0f0_11ea_b8fe_6c4008994c4erow7_col7\" class=\"data row7 col7\" >\n",
       "Founder at Digital </td>\n",
       "                        <td id=\"T_4b0270aa_b0f0_11ea_b8fe_6c4008994c4erow7_col8\" class=\"data row7 col8\" >Alexandra Tachalova </td>\n",
       "                        <td id=\"T_4b0270aa_b0f0_11ea_b8fe_6c4008994c4erow7_col9\" class=\"data row7 col9\" >\n",
       "#81 @@\n",
       "#148 </td>\n",
       "                        <td id=\"T_4b0270aa_b0f0_11ea_b8fe_6c4008994c4erow7_col10\" class=\"data row7 col10\" >Pro\n",
       "</td>\n",
       "            </tr>\n",
       "            <tr>\n",
       "                                <td id=\"T_4b0270aa_b0f0_11ea_b8fe_6c4008994c4erow8_col0\" class=\"data row8 col0\" >Alexander Porter</td>\n",
       "                        <td id=\"T_4b0270aa_b0f0_11ea_b8fe_6c4008994c4erow8_col1\" class=\"data row8 col1\" >https://www.semrush.</td>\n",
       "                        <td id=\"T_4b0270aa_b0f0_11ea_b8fe_6c4008994c4erow8_col2\" class=\"data row8 col2\" >https://twitter.com/</td>\n",
       "                        <td id=\"T_4b0270aa_b0f0_11ea_b8fe_6c4008994c4erow8_col3\" class=\"data row8 col3\" >https://www.linkedin</td>\n",
       "                        <td id=\"T_4b0270aa_b0f0_11ea_b8fe_6c4008994c4erow8_col4\" class=\"data row8 col4\" >https://www.facebook</td>\n",
       "                        <td id=\"T_4b0270aa_b0f0_11ea_b8fe_6c4008994c4erow8_col5\" class=\"data row8 col5\" >https://www.instagra</td>\n",
       "                        <td id=\"T_4b0270aa_b0f0_11ea_b8fe_6c4008994c4erow8_col6\" class=\"data row8 col6\" >https://paperclipdig</td>\n",
       "                        <td id=\"T_4b0270aa_b0f0_11ea_b8fe_6c4008994c4erow8_col7\" class=\"data row8 col7\" >\n",
       "Head of Copy and SE</td>\n",
       "                        <td id=\"T_4b0270aa_b0f0_11ea_b8fe_6c4008994c4erow8_col8\" class=\"data row8 col8\" >Alexander is Head of</td>\n",
       "                        <td id=\"T_4b0270aa_b0f0_11ea_b8fe_6c4008994c4erow8_col9\" class=\"data row8 col9\" >\n",
       "#147 @@\n",
       "#80 </td>\n",
       "                        <td id=\"T_4b0270aa_b0f0_11ea_b8fe_6c4008994c4erow8_col10\" class=\"data row8 col10\" >Pro\n",
       "</td>\n",
       "            </tr>\n",
       "            <tr>\n",
       "                                <td id=\"T_4b0270aa_b0f0_11ea_b8fe_6c4008994c4erow9_col0\" class=\"data row9 col0\" >Nadya Khoja</td>\n",
       "                        <td id=\"T_4b0270aa_b0f0_11ea_b8fe_6c4008994c4erow9_col1\" class=\"data row9 col1\" >https://www.semrush.</td>\n",
       "                        <td id=\"T_4b0270aa_b0f0_11ea_b8fe_6c4008994c4erow9_col2\" class=\"data row9 col2\" >https://twitter.com/</td>\n",
       "                        <td id=\"T_4b0270aa_b0f0_11ea_b8fe_6c4008994c4erow9_col3\" class=\"data row9 col3\" >https://www.linkedin</td>\n",
       "                        <td id=\"T_4b0270aa_b0f0_11ea_b8fe_6c4008994c4erow9_col4\" class=\"data row9 col4\" >https://www.facebook</td>\n",
       "                        <td id=\"T_4b0270aa_b0f0_11ea_b8fe_6c4008994c4erow9_col5\" class=\"data row9 col5\" ></td>\n",
       "                        <td id=\"T_4b0270aa_b0f0_11ea_b8fe_6c4008994c4erow9_col6\" class=\"data row9 col6\" >https://drinkwithnad</td>\n",
       "                        <td id=\"T_4b0270aa_b0f0_11ea_b8fe_6c4008994c4erow9_col7\" class=\"data row9 col7\" >\n",
       "Head of Marketing a</td>\n",
       "                        <td id=\"T_4b0270aa_b0f0_11ea_b8fe_6c4008994c4erow9_col8\" class=\"data row9 col8\" >Upon realizing that </td>\n",
       "                        <td id=\"T_4b0270aa_b0f0_11ea_b8fe_6c4008994c4erow9_col9\" class=\"data row9 col9\" >\n",
       "#200 </td>\n",
       "                        <td id=\"T_4b0270aa_b0f0_11ea_b8fe_6c4008994c4erow9_col10\" class=\"data row9 col10\" >Expert\n",
       "</td>\n",
       "            </tr>\n",
       "    </tbody></table>"
      ],
      "text/plain": [
       "<pandas.io.formats.style.Styler at 0x121cbad00>"
      ]
     },
     "execution_count": 95,
     "metadata": {},
     "output_type": "execute_result"
    }
   ],
   "source": [
    "authors = semrush[semrush['alltime_rank'].ne('')][['h1', 'url'] + list(selectors.keys())].copy()\n",
    "authors.apply(lambda s: s.str[:20]).sample(10).style.hide_index()"
   ]
  },
  {
   "cell_type": "markdown",
   "metadata": {},
   "source": [
    "We are almost done!  \n",
    "Some cleaning of the data is needed. \n",
    "\n",
    "You might have noticed the additional characters in the `alltime_rank` column, as well as the fact that it contains two values; one for the rank in posts, and another for the rank in comments. The following code splits the two values, and removes the noisy characters."
   ]
  },
  {
   "cell_type": "code",
   "execution_count": 8,
   "metadata": {},
   "outputs": [
    {
     "data": {
      "text/plain": [
       "13      [90, 2503]\n",
       "15      [209, 126]\n",
       "16           [208]\n",
       "17            [89]\n",
       "18           [206]\n",
       "          ...     \n",
       "408     [156, 645]\n",
       "409          [152]\n",
       "410      [162, 23]\n",
       "412     [154, 393]\n",
       "413    [151, 1749]\n",
       "Name: alltime_rank, Length: 388, dtype: object"
      ]
     },
     "execution_count": 8,
     "metadata": {},
     "output_type": "execute_result"
    }
   ],
   "source": [
    "ranks = authors['alltime_rank'].str.replace('\\n|#|\\s|№', '').str.split('@@')\n",
    "ranks"
   ]
  },
  {
   "cell_type": "markdown",
   "metadata": {},
   "source": [
    "Now we can create two separate columns, one for each rank, and make sure they are integers so we can sort by those columns. In some cases where the blogger doesn't have a rank for comments, we give them a rank of zero."
   ]
  },
  {
   "cell_type": "code",
   "execution_count": 9,
   "metadata": {},
   "outputs": [],
   "source": [
    "authors['alltime_rank_posts'] = [int(rank[0]) for rank in ranks]\n",
    "authors['alltime_rank_comments'] = [0 if len(rank) == 1 else int(rank[1]) for rank in ranks]"
   ]
  },
  {
   "cell_type": "markdown",
   "metadata": {},
   "source": [
    "One final step. \n",
    "The columns `job_title` and `rank_name` contain some whitespace at the beginning and end, so we remove it. We also remove the delimeter appearing in the `summary` columns, which is two @ characters `@@`. This is because many summaries contain links in them, and they are extracted as three or four elements, so we remove them. Finally we rename `h1` to `name`, and `url` to `semrush_profile`, sort by `alltime_rank_posts`, and remove the column `alltime_rank`.\n",
    "And we are done!"
   ]
  },
  {
   "cell_type": "code",
   "execution_count": 73,
   "metadata": {},
   "outputs": [
    {
     "data": {
      "text/html": [
       "<div>\n",
       "<style scoped>\n",
       "    .dataframe tbody tr th:only-of-type {\n",
       "        vertical-align: middle;\n",
       "    }\n",
       "\n",
       "    .dataframe tbody tr th {\n",
       "        vertical-align: top;\n",
       "    }\n",
       "\n",
       "    .dataframe thead th {\n",
       "        text-align: right;\n",
       "    }\n",
       "</style>\n",
       "<table border=\"1\" class=\"dataframe\">\n",
       "  <thead>\n",
       "    <tr style=\"text-align: right;\">\n",
       "      <th></th>\n",
       "      <th>name</th>\n",
       "      <th>twitter</th>\n",
       "      <th>linkedin</th>\n",
       "      <th>facebook</th>\n",
       "      <th>instagram</th>\n",
       "      <th>website</th>\n",
       "      <th>job_title</th>\n",
       "    </tr>\n",
       "  </thead>\n",
       "  <tbody>\n",
       "    <tr>\n",
       "      <th>0</th>\n",
       "      <td>A.J. Ghergich</td>\n",
       "      <td>https://twitter.com/SEO/</td>\n",
       "      <td>https://www.linkedin.com/in/ajg</td>\n",
       "      <td></td>\n",
       "      <td></td>\n",
       "      <td>https://brado.net</td>\n",
       "      <td>Founder at Brado</td>\n",
       "    </tr>\n",
       "    <tr>\n",
       "      <th>1</th>\n",
       "      <td>Bill Widmer</td>\n",
       "      <td>https://twitter.com/TheBillWidm</td>\n",
       "      <td>https://www.linkedin.com/in/Bil</td>\n",
       "      <td>https://www.facebook.com/TheBil</td>\n",
       "      <td></td>\n",
       "      <td>https://billwidmer.com</td>\n",
       "      <td>Content Marketing Expert</td>\n",
       "    </tr>\n",
       "    <tr>\n",
       "      <th>2</th>\n",
       "      <td>James Brockbank</td>\n",
       "      <td>https://twitter.com/brockbankja</td>\n",
       "      <td>https://www.linkedin.com/in/jam</td>\n",
       "      <td></td>\n",
       "      <td></td>\n",
       "      <td>https://digitaloft.co.uk</td>\n",
       "      <td>Managing Director at Digitaloft</td>\n",
       "    </tr>\n",
       "    <tr>\n",
       "      <th>3</th>\n",
       "      <td>Judith Lewis</td>\n",
       "      <td>https://twitter.com/judithlewis</td>\n",
       "      <td></td>\n",
       "      <td></td>\n",
       "      <td>https://www.instagram.com/decab</td>\n",
       "      <td>http://www.decabbit.com</td>\n",
       "      <td>Founder at Decabbit Consultancy</td>\n",
       "    </tr>\n",
       "    <tr>\n",
       "      <th>4</th>\n",
       "      <td>Julia McCoy</td>\n",
       "      <td>https://twitter.com/JuliaEMcCoy</td>\n",
       "      <td>https://www.linkedin.com/in/jul</td>\n",
       "      <td>https://www.facebook.com/JuliaE</td>\n",
       "      <td>https://www.instagram.com/femen</td>\n",
       "      <td>https://www.expresswriters.com</td>\n",
       "      <td>CEO, Author at Express Writers,</td>\n",
       "    </tr>\n",
       "    <tr>\n",
       "      <th>5</th>\n",
       "      <td>Tim Capper</td>\n",
       "      <td>https://twitter.com/GuideTwit/</td>\n",
       "      <td>https://www.linkedin.com/in/tca</td>\n",
       "      <td></td>\n",
       "      <td></td>\n",
       "      <td></td>\n",
       "      <td></td>\n",
       "    </tr>\n",
       "    <tr>\n",
       "      <th>6</th>\n",
       "      <td>Deepak Shukla</td>\n",
       "      <td>https://twitter.com/deepakpshuk</td>\n",
       "      <td>https://www.linkedin.com/in/dee</td>\n",
       "      <td>https://www.facebook.com/deepak</td>\n",
       "      <td>https://www.instagram.com/deepa</td>\n",
       "      <td>http://www.pearllemon.com/</td>\n",
       "      <td>SEO Director at Pearl Lemon at</td>\n",
       "    </tr>\n",
       "    <tr>\n",
       "      <th>7</th>\n",
       "      <td>Guy Sheetrit</td>\n",
       "      <td></td>\n",
       "      <td></td>\n",
       "      <td></td>\n",
       "      <td></td>\n",
       "      <td></td>\n",
       "      <td>CEO at Over The Top SEO</td>\n",
       "    </tr>\n",
       "    <tr>\n",
       "      <th>8</th>\n",
       "      <td>Uzair Kharawala</td>\n",
       "      <td>https://twitter.com/sfdigital/</td>\n",
       "      <td>https://www.linkedin.com/in/uza</td>\n",
       "      <td>https://www.facebook.com/sfdigi</td>\n",
       "      <td>https://www.instagram.com/sfdig</td>\n",
       "      <td>https://www.sfdigital.co.uk</td>\n",
       "      <td>Partner at SF Digital Studios</td>\n",
       "    </tr>\n",
       "    <tr>\n",
       "      <th>9</th>\n",
       "      <td>Georgi Todorov</td>\n",
       "      <td>https://twitter.com/GeorgiTodor</td>\n",
       "      <td>https://www.linkedin.com/in/geo</td>\n",
       "      <td>https://www.facebook.com/Georgi</td>\n",
       "      <td></td>\n",
       "      <td>http://digitalnovas.com/</td>\n",
       "      <td>Digital Marketer</td>\n",
       "    </tr>\n",
       "  </tbody>\n",
       "</table>\n",
       "</div>"
      ],
      "text/plain": [
       "              name                          twitter  \\\n",
       "0    A.J. Ghergich         https://twitter.com/SEO/   \n",
       "1      Bill Widmer  https://twitter.com/TheBillWidm   \n",
       "2  James Brockbank  https://twitter.com/brockbankja   \n",
       "3     Judith Lewis  https://twitter.com/judithlewis   \n",
       "4      Julia McCoy  https://twitter.com/JuliaEMcCoy   \n",
       "5       Tim Capper   https://twitter.com/GuideTwit/   \n",
       "6    Deepak Shukla  https://twitter.com/deepakpshuk   \n",
       "7     Guy Sheetrit                                    \n",
       "8  Uzair Kharawala   https://twitter.com/sfdigital/   \n",
       "9   Georgi Todorov  https://twitter.com/GeorgiTodor   \n",
       "\n",
       "                          linkedin                         facebook  \\\n",
       "0  https://www.linkedin.com/in/ajg                                    \n",
       "1  https://www.linkedin.com/in/Bil  https://www.facebook.com/TheBil   \n",
       "2  https://www.linkedin.com/in/jam                                    \n",
       "3                                                                     \n",
       "4  https://www.linkedin.com/in/jul  https://www.facebook.com/JuliaE   \n",
       "5  https://www.linkedin.com/in/tca                                    \n",
       "6  https://www.linkedin.com/in/dee  https://www.facebook.com/deepak   \n",
       "7                                                                     \n",
       "8  https://www.linkedin.com/in/uza  https://www.facebook.com/sfdigi   \n",
       "9  https://www.linkedin.com/in/geo  https://www.facebook.com/Georgi   \n",
       "\n",
       "                         instagram                         website  \\\n",
       "0                                                https://brado.net   \n",
       "1                                           https://billwidmer.com   \n",
       "2                                         https://digitaloft.co.uk   \n",
       "3  https://www.instagram.com/decab         http://www.decabbit.com   \n",
       "4  https://www.instagram.com/femen  https://www.expresswriters.com   \n",
       "5                                                                    \n",
       "6  https://www.instagram.com/deepa      http://www.pearllemon.com/   \n",
       "7                                                                    \n",
       "8  https://www.instagram.com/sfdig     https://www.sfdigital.co.uk   \n",
       "9                                         http://digitalnovas.com/   \n",
       "\n",
       "                         job_title  \n",
       "0                 Founder at Brado  \n",
       "1         Content Marketing Expert  \n",
       "2  Managing Director at Digitaloft  \n",
       "3  Founder at Decabbit Consultancy  \n",
       "4  CEO, Author at Express Writers,  \n",
       "5                                   \n",
       "6  SEO Director at Pearl Lemon at   \n",
       "7          CEO at Over The Top SEO  \n",
       "8    Partner at SF Digital Studios  \n",
       "9                 Digital Marketer  "
      ]
     },
     "execution_count": 73,
     "metadata": {},
     "output_type": "execute_result"
    }
   ],
   "source": [
    "authors['job_title'] = authors['job_title'].str.strip()\n",
    "authors['rank_name'] = authors['rank_name'].str.strip()\n",
    "authors['summary'] = authors['summary'].str.replace('@@', '')\n",
    "authors = authors.rename(columns={'h1': 'name',\n",
    "                                  'url': 'semrush_profile'}).sort_values('alltime_rank_posts').reset_index(drop=True)\n",
    "authors.drop('alltime_rank', axis=1).iloc[:10, [0, 2, 3, 4, 5, 6, 7]].apply(lambda s: s.str[:31] )"
   ]
  },
  {
   "cell_type": "markdown",
   "metadata": {},
   "source": [
    "Let's quickly check if the work seems to be correct. Let's see how many rows and columns we have in `authors`:"
   ]
  },
  {
   "cell_type": "code",
   "execution_count": 51,
   "metadata": {},
   "outputs": [
    {
     "data": {
      "text/plain": [
       "(388, 13)"
      ]
     },
     "execution_count": 51,
     "metadata": {},
     "output_type": "execute_result"
    }
   ],
   "source": [
    "authors.shape"
   ]
  },
  {
   "cell_type": "markdown",
   "metadata": {},
   "source": [
    "388 rows and 13 columns. Weren't they 393?  \n",
    "That's true. It seems there are five bloggers who have special profile pages that have the same data but in a different design (different CSS selectors). These are the \"Columnists\" of the blog. I have manually extracted their data and added them to the table, which you can see in the final `semrush_blog_authors.csv` file. \n",
    "\n",
    ">  **A very optimistic person once found a horseshoe on the floor and immediately thought, \"Oh, now I only need three more horseshoes and a horse!\"**\n",
    "\n",
    "This list is only one horseshoe. The horse is the process of actually talking to those people, building real relationships, and finding a meaningful way to contribute to the network. \n",
    "\n",
    "Now that you have a list of all the Twitter accounts, you might want to create a list to keep track of the people you find interesting. You might only be interested in a subset, so you can filter by the title or summary for profiles containing \"content\", \"SEO\", \"paid\", or whatever you are interested in. The blog is published in several languages, so you could do the same for another language. With all the LinkedIn profiles you might consider creating or joining a specialist group, and inviting people to it. \n",
    "\n",
    "Good luck! \n"
   ]
  },
  {
   "cell_type": "code",
   "execution_count": 11,
   "metadata": {},
   "outputs": [
    {
     "data": {
      "text/plain": [
       "{'name': None,\n",
       " 'semrush_profile': None,\n",
       " 'twitter': None,\n",
       " 'linkedin': None,\n",
       " 'facebook': None,\n",
       " 'instagram': None,\n",
       " 'website': None,\n",
       " 'job_title': None,\n",
       " 'summary': None,\n",
       " 'alltime_rank': None,\n",
       " 'rank_name': None,\n",
       " 'alltime_rank_posts': None,\n",
       " 'alltime_rank_comments': None}"
      ]
     },
     "execution_count": 11,
     "metadata": {},
     "output_type": "execute_result"
    }
   ],
   "source": [
    "d = dict.fromkeys(authors.columns)\n",
    "d"
   ]
  },
  {
   "cell_type": "code",
   "execution_count": 45,
   "metadata": {},
   "outputs": [],
   "source": [
    "d['name']= ['Jason Barnard', 'Kevin Indig', 'Jason Brown', 'Ross Tavendale', 'Marina Brocca']\n",
    "d['twitter'] = ['https://twitter.com/jasonmbarnard/',\n",
    "                'https://twitter.com/kevin_indig/',\n",
    "                'https://twitter.com/keyserholiday/',\n",
    "                'https://twitter.com/rtavs/',\n",
    "                'https://twitter.com/marinabrocca/']\n",
    "\n",
    "d['linkedin'] = ['https://www.linkedin.com/in/jasonmbarnard/',\n",
    "                 'https://www.linkedin.com/in/kevinindig/',\n",
    "                 'https://www.linkedin.com/in/jason-brown-keyserholiday/',\n",
    "                 'https://www.linkedin.com/in/rosstavendale/',\n",
    "                 'https://www.linkedin.com/in/marinabrocca/']\n",
    "\n",
    "d['website'] = ['https://jasonbarnard.com/',\n",
    "                'https://www.kevin-indig.com/',\n",
    "                'http://reviewfraud.org/',\n",
    "                'https://typeamedia.net/',\n",
    "                'https://marinabrocca.com/']\n",
    "\n",
    "d['job_title'] = ['The Brand SERP Guy at Kalicube.pro',\n",
    "                  'VP SEO and Content at G2',\n",
    "                  'Spam Hunter at Sterling Sky',\n",
    "                  'Managing Director at Type A Media', '']\n",
    "\n",
    "d['summary'] = [\"\"\"Jason Barnard is an author, speaker and consultant on all things digital marketing. His specialist subject is Brand SERPs (what appears when someone goodlmes your name). He teaches Brand SERP optimisation to students at Kalicube.pro. He also hosts a marketing podcast, where the smartest people in marketing talk to Jason about subjects they know inside out. The conversations are always interesting, always intelligent and always fun!\n",
    "\n",
    "Over 2 decades of experience in digital marketing: he started promoting his first website in the year Google was incorporated and built it up to become one of the top 10,000 most visited sites in the world (60 million visits in 2007).\n",
    "\n",
    "The Brand SERP Guy\n",
    "\n",
    "Why “The Brand SERP Guy”? Because Jason has been studying, tracking and analysing Brand SERPs (what appears when someone Googles your name) since 2013...\n",
    "\n",
    "Conclusion: Brand SERPs are your new business card, a reflection of your brand’s digital ecosystem and an honest critique of your online marketing strategy. That could well be enough to pique the interest of any marketer and any brand... in any industry :)\n",
    "\n",
    "News: Jason has released a series of online courses that teach brand owners and marketers to optimise their brand SERPs : https://kalicube.pro/courses/\n",
    "\n",
    "You might want to check out Jason's digital marketing podcast. The conversations are always intelligent interesting and fun. Guests include Rand Fishkin, Joost de Valk, Jono Alderson, Bill Slawski, John Mueller...\"\"\",\n",
    "                'Data > Information > Knowledge > Wisdom',\n",
    "                \"\"\"After more than a decade working in the field, I am currently the Spam Hunt for Sterling Sky. Although I have focused on local SEO for nationwide multi-location franchises since 2015, my resume includes combating and reporting fake online reviews, which includes several local and national news appearances. My comments can be found regularly in the GMB forum and I'm in the process of becoming a Top Contributor. You can find me on Twitter talking SEO and music; say hi sometime.\"\"\",\n",
    "                \"\"\"Ross is the Managing Director at Type A Media, an independent search agency that work with FTSE250 companies and mid-sized brands to help them find the optimal way to talk to more people online.\n",
    "When not obsessing over his clients rankings, he hosts the Canonical Chronicle, a weekly web show watched by 100k people every month.\n",
    "If you want to ask him a direct question you can find him @rtavs on Twitter.\"\"\",\n",
    "                'Marina: Consultora especializada en marketing legal y protección de datos, acreditada en área jurídica. Especialista en RGPD. Autora del blog marinabrocca.com -Ponente y formadora.']\n",
    "\n",
    "d['facebook'] = ['https://twitter.com/jasonmbarnard/',\n",
    "                 'https://www.facebook.com/kevin.indig/', \n",
    "                 'https://www.facebook.com/keyserholiday/',\n",
    "                 'https://www.facebook.com/ross.tavendale/', '']\n",
    "\n",
    "d['rank_name'] = ['Columnist', 'Columnist', 'Columnist', 'Columnist', 'Columnist']\n",
    "\n",
    "d['semrush_profile'] = ['https://www.semrush.com/user/jasonbarnard/',\n",
    "                        'https://www.semrush.com/user/kevin-indig/',\n",
    "                        'https://www.semrush.com/user/keyserholiday/',\n",
    "                        'https://www.semrush.com/user/159015569/',\n",
    "                        'https://www.semrush.com/user/145633457/']"
   ]
  },
  {
   "cell_type": "code",
   "execution_count": 78,
   "metadata": {},
   "outputs": [],
   "source": [
    "# authors.append(pd.DataFrame(d)).drop('alltime_rank', axis=1).to_csv('semrush_blog_authors.csv', index=False)"
   ]
  }
 ],
 "metadata": {
  "kernelspec": {
   "display_name": "Python 3",
   "language": "python",
   "name": "python3"
  },
  "language_info": {
   "codemirror_mode": {
    "name": "ipython",
    "version": 3
   },
   "file_extension": ".py",
   "mimetype": "text/x-python",
   "name": "python",
   "nbconvert_exporter": "python",
   "pygments_lexer": "ipython3",
   "version": "3.8.1"
  }
 },
 "nbformat": 4,
 "nbformat_minor": 4
}
